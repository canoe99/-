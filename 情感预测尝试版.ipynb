{
 "cells": [
  {
   "cell_type": "code",
   "execution_count": 1,
   "id": "da9d1451",
   "metadata": {},
   "outputs": [],
   "source": [
    "import pandas as pd\n",
    "import re\n",
    "from sklearn.feature_extraction.text import TfidfVectorizer\n",
    "from sklearn.model_selection import train_test_split\n",
    "from sklearn.linear_model import LogisticRegression\n",
    "from sklearn.metrics import classification_report"
   ]
  },
  {
   "cell_type": "code",
   "execution_count": 5,
   "id": "6274de59",
   "metadata": {},
   "outputs": [],
   "source": [
    "# 1. 加载 labeldata.csv 和 标签的数据无打码.txt 文件\n",
    "label_data = pd.read_csv('labeldata.csv')\n",
    "no_mask_data = pd.read_csv('标签的数据无打码.txt', header=None, names=['text'], sep='\\t')"
   ]
  },
  {
   "cell_type": "code",
   "execution_count": 6,
   "id": "76486f65",
   "metadata": {},
   "outputs": [],
   "source": [
    "# 2. 数据清洗：清除无效字符，统一文本格式\n",
    "def clean_text(text):\n",
    "    if not isinstance(text, str):\n",
    "        return ''\n",
    "    text = text.lower()  # 转小写\n",
    "    text = re.sub(r'\\d+', '', text)  # 去除数字\n",
    "    text = re.sub(r'[^\\w\\s]', '', text)  # 去除标点符号\n",
    "    return text"
   ]
  },
  {
   "cell_type": "code",
   "execution_count": 7,
   "id": "a3b8fb89",
   "metadata": {},
   "outputs": [],
   "source": [
    "# 清洗文本数据\n",
    "label_data['cleaned_text'] = label_data['信息的对华情感'].apply(clean_text)  # 清洗对华情感文本\n",
    "no_mask_data['cleaned_text'] = no_mask_data['text'].apply(clean_text)  # 清洗预测文本"
   ]
  },
  {
   "cell_type": "code",
   "execution_count": 9,
   "id": "2ee2373e",
   "metadata": {},
   "outputs": [
    {
     "name": "stdout",
     "output_type": "stream",
     "text": [
      "Index(['data_row', '信息的对华情感', '信息的私人情感（不指向CHN）', '作者是机构的可能性', 'train_predict',\n",
      "       'cleaned_text'],\n",
      "      dtype='object')\n"
     ]
    }
   ],
   "source": [
    "print(label_data.columns)"
   ]
  },
  {
   "cell_type": "code",
   "execution_count": 12,
   "id": "cc99e141",
   "metadata": {},
   "outputs": [],
   "source": [
    "# 3. 合并数据：通过 data_row 进行合并，如果没有 data_row 则跳过此步骤\n",
    "# 如果你有其他列来匹配文本和标签，修改合并逻辑\n",
    "label_data = label_data.reset_index()  # 将原来的索引转化为列\n",
    "merged_data = pd.merge(label_data[['index', '信息的对华情感', 'cleaned_text']], no_mask_data, left_on='index', right_index=True, how='left')"
   ]
  },
  {
   "cell_type": "code",
   "execution_count": 14,
   "id": "7a0bd026",
   "metadata": {},
   "outputs": [
    {
     "name": "stdout",
     "output_type": "stream",
     "text": [
      "Index(['index', '信息的对华情感', 'cleaned_text_x', 'text', 'cleaned_text_y'], dtype='object')\n"
     ]
    }
   ],
   "source": [
    "print(merged_data.columns)"
   ]
  },
  {
   "cell_type": "code",
   "execution_count": 15,
   "id": "b3b45488",
   "metadata": {
    "scrolled": true
   },
   "outputs": [],
   "source": [
    "# 4. 特征提取：使用 TfidfVectorizer 将文本转化为特征向量\n",
    "vectorizer = TfidfVectorizer(max_features=5000)  # 提取最多5000个特征\n",
    "X = vectorizer.fit_transform(merged_data['cleaned_text_x'])"
   ]
  },
  {
   "cell_type": "code",
   "execution_count": 16,
   "id": "46b40440",
   "metadata": {},
   "outputs": [],
   "source": [
    "# 5. 准备标签数据\n",
    "y = merged_data['信息的对华情感']  # 目标标签：对华情感"
   ]
  },
  {
   "cell_type": "code",
   "execution_count": 17,
   "id": "88784768",
   "metadata": {},
   "outputs": [],
   "source": [
    "# 6. 切分训练集和预测集\n",
    "X_train, X_test, y_train, y_test = train_test_split(X, y, test_size=0.2, random_state=42)"
   ]
  },
  {
   "cell_type": "code",
   "execution_count": 18,
   "id": "40579aa4",
   "metadata": {},
   "outputs": [
    {
     "data": {
      "text/html": [
       "<style>#sk-container-id-1 {color: black;}#sk-container-id-1 pre{padding: 0;}#sk-container-id-1 div.sk-toggleable {background-color: white;}#sk-container-id-1 label.sk-toggleable__label {cursor: pointer;display: block;width: 100%;margin-bottom: 0;padding: 0.3em;box-sizing: border-box;text-align: center;}#sk-container-id-1 label.sk-toggleable__label-arrow:before {content: \"▸\";float: left;margin-right: 0.25em;color: #696969;}#sk-container-id-1 label.sk-toggleable__label-arrow:hover:before {color: black;}#sk-container-id-1 div.sk-estimator:hover label.sk-toggleable__label-arrow:before {color: black;}#sk-container-id-1 div.sk-toggleable__content {max-height: 0;max-width: 0;overflow: hidden;text-align: left;background-color: #f0f8ff;}#sk-container-id-1 div.sk-toggleable__content pre {margin: 0.2em;color: black;border-radius: 0.25em;background-color: #f0f8ff;}#sk-container-id-1 input.sk-toggleable__control:checked~div.sk-toggleable__content {max-height: 200px;max-width: 100%;overflow: auto;}#sk-container-id-1 input.sk-toggleable__control:checked~label.sk-toggleable__label-arrow:before {content: \"▾\";}#sk-container-id-1 div.sk-estimator input.sk-toggleable__control:checked~label.sk-toggleable__label {background-color: #d4ebff;}#sk-container-id-1 div.sk-label input.sk-toggleable__control:checked~label.sk-toggleable__label {background-color: #d4ebff;}#sk-container-id-1 input.sk-hidden--visually {border: 0;clip: rect(1px 1px 1px 1px);clip: rect(1px, 1px, 1px, 1px);height: 1px;margin: -1px;overflow: hidden;padding: 0;position: absolute;width: 1px;}#sk-container-id-1 div.sk-estimator {font-family: monospace;background-color: #f0f8ff;border: 1px dotted black;border-radius: 0.25em;box-sizing: border-box;margin-bottom: 0.5em;}#sk-container-id-1 div.sk-estimator:hover {background-color: #d4ebff;}#sk-container-id-1 div.sk-parallel-item::after {content: \"\";width: 100%;border-bottom: 1px solid gray;flex-grow: 1;}#sk-container-id-1 div.sk-label:hover label.sk-toggleable__label {background-color: #d4ebff;}#sk-container-id-1 div.sk-serial::before {content: \"\";position: absolute;border-left: 1px solid gray;box-sizing: border-box;top: 0;bottom: 0;left: 50%;z-index: 0;}#sk-container-id-1 div.sk-serial {display: flex;flex-direction: column;align-items: center;background-color: white;padding-right: 0.2em;padding-left: 0.2em;position: relative;}#sk-container-id-1 div.sk-item {position: relative;z-index: 1;}#sk-container-id-1 div.sk-parallel {display: flex;align-items: stretch;justify-content: center;background-color: white;position: relative;}#sk-container-id-1 div.sk-item::before, #sk-container-id-1 div.sk-parallel-item::before {content: \"\";position: absolute;border-left: 1px solid gray;box-sizing: border-box;top: 0;bottom: 0;left: 50%;z-index: -1;}#sk-container-id-1 div.sk-parallel-item {display: flex;flex-direction: column;z-index: 1;position: relative;background-color: white;}#sk-container-id-1 div.sk-parallel-item:first-child::after {align-self: flex-end;width: 50%;}#sk-container-id-1 div.sk-parallel-item:last-child::after {align-self: flex-start;width: 50%;}#sk-container-id-1 div.sk-parallel-item:only-child::after {width: 0;}#sk-container-id-1 div.sk-dashed-wrapped {border: 1px dashed gray;margin: 0 0.4em 0.5em 0.4em;box-sizing: border-box;padding-bottom: 0.4em;background-color: white;}#sk-container-id-1 div.sk-label label {font-family: monospace;font-weight: bold;display: inline-block;line-height: 1.2em;}#sk-container-id-1 div.sk-label-container {text-align: center;}#sk-container-id-1 div.sk-container {/* jupyter's `normalize.less` sets `[hidden] { display: none; }` but bootstrap.min.css set `[hidden] { display: none !important; }` so we also need the `!important` here to be able to override the default hidden behavior on the sphinx rendered scikit-learn.org. See: https://github.com/scikit-learn/scikit-learn/issues/21755 */display: inline-block !important;position: relative;}#sk-container-id-1 div.sk-text-repr-fallback {display: none;}</style><div id=\"sk-container-id-1\" class=\"sk-top-container\"><div class=\"sk-text-repr-fallback\"><pre>LogisticRegression(max_iter=1000)</pre><b>In a Jupyter environment, please rerun this cell to show the HTML representation or trust the notebook. <br />On GitHub, the HTML representation is unable to render, please try loading this page with nbviewer.org.</b></div><div class=\"sk-container\" hidden><div class=\"sk-item\"><div class=\"sk-estimator sk-toggleable\"><input class=\"sk-toggleable__control sk-hidden--visually\" id=\"sk-estimator-id-1\" type=\"checkbox\" checked><label for=\"sk-estimator-id-1\" class=\"sk-toggleable__label sk-toggleable__label-arrow\">LogisticRegression</label><div class=\"sk-toggleable__content\"><pre>LogisticRegression(max_iter=1000)</pre></div></div></div></div></div>"
      ],
      "text/plain": [
       "LogisticRegression(max_iter=1000)"
      ]
     },
     "execution_count": 18,
     "metadata": {},
     "output_type": "execute_result"
    }
   ],
   "source": [
    "# 7. 训练情感预测模型：这里使用逻辑回归作为基线模型\n",
    "model = LogisticRegression(max_iter=1000)\n",
    "model.fit(X_train, y_train)"
   ]
  },
  {
   "cell_type": "code",
   "execution_count": 19,
   "id": "8506c6f3",
   "metadata": {},
   "outputs": [],
   "source": [
    "# 8. 预测并评估模型\n",
    "y_pred = model.predict(X_test)"
   ]
  },
  {
   "cell_type": "code",
   "execution_count": 20,
   "id": "1701c7be",
   "metadata": {},
   "outputs": [
    {
     "name": "stdout",
     "output_type": "stream",
     "text": [
      "Classification Report:\n",
      "\n",
      "              precision    recall  f1-score   support\n",
      "\n",
      "           无       1.00      1.00      1.00        94\n",
      "          消极       1.00      1.00      1.00        89\n",
      "          积极       1.00      1.00      1.00        90\n",
      "\n",
      "    accuracy                           1.00       273\n",
      "   macro avg       1.00      1.00      1.00       273\n",
      "weighted avg       1.00      1.00      1.00       273\n",
      "\n"
     ]
    }
   ],
   "source": [
    "# 9. 输出评估报告\n",
    "print(\"Classification Report:\\n\")\n",
    "print(classification_report(y_test, y_pred))"
   ]
  },
  {
   "cell_type": "code",
   "execution_count": 21,
   "id": "06d6cb9e",
   "metadata": {},
   "outputs": [],
   "source": [
    "# 10. 对于无打码的文本进行情感预测（预测集）\n",
    "predict_X = vectorizer.transform(no_mask_data['cleaned_text'])\n",
    "predict_y = model.predict(predict_X)"
   ]
  },
  {
   "cell_type": "code",
   "execution_count": 22,
   "id": "fcedcef3",
   "metadata": {},
   "outputs": [
    {
     "name": "stdout",
     "output_type": "stream",
     "text": [
      "预测结果：\n",
      "                                                   text predicted_sentiment\n",
      "0          Area,KeyWords,Name,Verified,Language,Content                   无\n",
      "1      军事,china cyber attack,jono,t,en,Breaking: For...                   无\n",
      "2      军事,china cyber attack,Blutkanzlerin AngelaMer...                   无\n",
      "3      军事,china cyber attack,kaneichi ,f,en,Chances ...                   无\n",
      "4      军事,china cyber attack,Vishvaguru Citizen(Jeet...                   无\n",
      "...                                                 ...                 ...\n",
      "1360   经济,express delivery china,Algorithms R Us,f,e...                   无\n",
      "1361   经济,express delivery china,Chin Ann,f,en,Wtf S...                   无\n",
      "1362   经济,BeltandRoad,Abhijeet Rana,f,en,China belie...                   无\n",
      "1363   经济,BeltandRoad,J∆Z ,t,en,What made me awe was...                   无\n",
      "1364   经济,BeltandRoad,Sammy Thornton,f,en,Building a...                   无\n",
      "\n",
      "[1365 rows x 2 columns]\n"
     ]
    }
   ],
   "source": [
    "# 11. 将预测结果输出\n",
    "no_mask_data['predicted_sentiment'] = predict_y\n",
    "print(\"预测结果：\")\n",
    "print(no_mask_data[['text', 'predicted_sentiment']])"
   ]
  },
  {
   "cell_type": "code",
   "execution_count": 23,
   "id": "70e0aa05",
   "metadata": {},
   "outputs": [],
   "source": [
    "# 12. 如果需要保存预测结果，可以使用下面的代码：\n",
    "no_mask_data[['text', 'predicted_sentiment']].to_csv('predicted_results.csv', index=False)"
   ]
  },
  {
   "cell_type": "code",
   "execution_count": null,
   "id": "5e8f9def",
   "metadata": {},
   "outputs": [],
   "source": []
  }
 ],
 "metadata": {
  "kernelspec": {
   "display_name": "Python 3 (ipykernel)",
   "language": "python",
   "name": "python3"
  },
  "language_info": {
   "codemirror_mode": {
    "name": "ipython",
    "version": 3
   },
   "file_extension": ".py",
   "mimetype": "text/x-python",
   "name": "python",
   "nbconvert_exporter": "python",
   "pygments_lexer": "ipython3",
   "version": "3.11.5"
  },
  "toc": {
   "base_numbering": 1,
   "nav_menu": {},
   "number_sections": true,
   "sideBar": true,
   "skip_h1_title": false,
   "title_cell": "Table of Contents",
   "title_sidebar": "Contents",
   "toc_cell": false,
   "toc_position": {},
   "toc_section_display": true,
   "toc_window_display": false
  }
 },
 "nbformat": 4,
 "nbformat_minor": 5
}
