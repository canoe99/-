{
 "cells": [
  {
   "cell_type": "markdown",
   "id": "7cd7bbbb",
   "metadata": {},
   "source": [
    "# 数据加载与预处理"
   ]
  },
  {
   "cell_type": "code",
   "execution_count": 1,
   "id": "919cfbab",
   "metadata": {},
   "outputs": [
    {
     "name": "stderr",
     "output_type": "stream",
     "text": [
      "/Users/canoe/anaconda3/lib/python3.11/site-packages/pandas/core/arrays/masked.py:60: UserWarning: Pandas requires version '1.3.6' or newer of 'bottleneck' (version '1.3.5' currently installed).\n",
      "  from pandas.core import (\n"
     ]
    }
   ],
   "source": [
    "import pandas as pd\n",
    "import os\n",
    "import string\n",
    "from sklearn.preprocessing import LabelEncoder\n",
    "from sklearn.model_selection import train_test_split\n",
    "import numpy as np"
   ]
  },
  {
   "cell_type": "code",
   "execution_count": 2,
   "id": "82e8bc6c",
   "metadata": {},
   "outputs": [],
   "source": [
    "# 定义训练集路径\n",
    "data_files = [\n",
    "    \"经济train.csv\", \"军事train.csv\", \"科技train.csv\",\n",
    "    \"社会train.csv\", \"体育train.csv\", \"文化train.csv\", \"政治train.csv\"\n",
    "]"
   ]
  },
  {
   "cell_type": "code",
   "execution_count": 3,
   "id": "20573802",
   "metadata": {},
   "outputs": [],
   "source": [
    "# 读取并合并所有训练数据\n",
    "train_data = pd.DataFrame()"
   ]
  },
  {
   "cell_type": "code",
   "execution_count": 4,
   "id": "3ff9a185",
   "metadata": {},
   "outputs": [],
   "source": [
    "for file in data_files:\n",
    "    temp_df = pd.read_csv(file)\n",
    "    temp_df['Category'] = file.split('train')[0]  # 给每个数据集加上标签列（如：经济，政治等）\n",
    "    train_data = pd.concat([train_data, temp_df])"
   ]
  },
  {
   "cell_type": "code",
   "execution_count": 5,
   "id": "5bd280f6",
   "metadata": {},
   "outputs": [],
   "source": [
    "# 数据清理\n",
    "train_data.dropna(subset=['Content'], inplace=True)  # 去掉Content为空的行"
   ]
  },
  {
   "cell_type": "code",
   "execution_count": 6,
   "id": "ee43e99a",
   "metadata": {},
   "outputs": [],
   "source": [
    "# 文本预处理函数\n",
    "def preprocess_text(text):\n",
    "    text = text.lower()  # 转小写\n",
    "    text = text.translate(str.maketrans('', '', string.punctuation))  # 去除标点符号\n",
    "    return text"
   ]
  },
  {
   "cell_type": "code",
   "execution_count": 7,
   "id": "bcf7c56e",
   "metadata": {},
   "outputs": [],
   "source": [
    "# 预处理训练集的文本\n",
    "train_data['Processed_Content'] = train_data['Content'].apply(preprocess_text)"
   ]
  },
  {
   "cell_type": "code",
   "execution_count": 8,
   "id": "5a54f4b0",
   "metadata": {},
   "outputs": [
    {
     "name": "stdout",
     "output_type": "stream",
     "text": [
      "  Category                            Processed_Content\n",
      "0       经济  highspeed rail here and there in china 3746\n",
      "1       经济  highspeed rail here and there in china 3646\n",
      "2       经济  highspeed rail here and there in china 3546\n",
      "3       经济  highspeed rail here and there in china 3446\n",
      "4       经济  highspeed rail here and there in china 3346\n"
     ]
    }
   ],
   "source": [
    "# 查看处理后的数据\n",
    "print(train_data[['Category', 'Processed_Content']].head())"
   ]
  },
  {
   "cell_type": "markdown",
   "id": "75842ade",
   "metadata": {},
   "source": [
    "# 文本向量化与填充"
   ]
  },
  {
   "cell_type": "code",
   "execution_count": 9,
   "id": "81deeba9",
   "metadata": {},
   "outputs": [],
   "source": [
    "from tensorflow.keras.preprocessing.text import Tokenizer\n",
    "from tensorflow.keras.preprocessing.sequence import pad_sequences"
   ]
  },
  {
   "cell_type": "code",
   "execution_count": 10,
   "id": "13a4a517",
   "metadata": {},
   "outputs": [],
   "source": [
    "# 定义Tokenizer并进行训练\n",
    "tokenizer = Tokenizer(num_words=10000)  # 设置最大词汇数\n",
    "tokenizer.fit_on_texts(train_data['Processed_Content'])"
   ]
  },
  {
   "cell_type": "code",
   "execution_count": 11,
   "id": "1f51b82d",
   "metadata": {},
   "outputs": [],
   "source": [
    "# 将文本转化为序列\n",
    "X = tokenizer.texts_to_sequences(train_data['Processed_Content'])"
   ]
  },
  {
   "cell_type": "code",
   "execution_count": 12,
   "id": "2e733a55",
   "metadata": {},
   "outputs": [],
   "source": [
    "# 填充序列，使其具有相同的长度\n",
    "max_sequence_length = 500  # 设定最大序列长度\n",
    "X = pad_sequences(X, maxlen=max_sequence_length)"
   ]
  },
  {
   "cell_type": "code",
   "execution_count": 13,
   "id": "d433dae7",
   "metadata": {},
   "outputs": [
    {
     "name": "stdout",
     "output_type": "stream",
     "text": [
      "(79470, 500)\n"
     ]
    }
   ],
   "source": [
    "# 查看数据\n",
    "print(X.shape)"
   ]
  },
  {
   "cell_type": "markdown",
   "id": "af5328bd",
   "metadata": {},
   "source": [
    "# 标签编码"
   ]
  },
  {
   "cell_type": "code",
   "execution_count": 14,
   "id": "3268e6df",
   "metadata": {},
   "outputs": [],
   "source": [
    "label_encoder = LabelEncoder()\n",
    "y = label_encoder.fit_transform(train_data['Category'])"
   ]
  },
  {
   "cell_type": "code",
   "execution_count": 15,
   "id": "52cd50f6",
   "metadata": {},
   "outputs": [
    {
     "name": "stdout",
     "output_type": "stream",
     "text": [
      "[6 6 6 6 6 6 6 6 6 6]\n"
     ]
    }
   ],
   "source": [
    "# 查看编码后的标签\n",
    "print(y[:10])"
   ]
  },
  {
   "cell_type": "markdown",
   "id": "2019481a",
   "metadata": {},
   "source": [
    "# 构建LSTM模型"
   ]
  },
  {
   "cell_type": "code",
   "execution_count": 16,
   "id": "5a975b38",
   "metadata": {},
   "outputs": [],
   "source": [
    "from tensorflow.keras.models import Sequential\n",
    "from tensorflow.keras.layers import Embedding, LSTM, Dense, Dropout"
   ]
  },
  {
   "cell_type": "code",
   "execution_count": 17,
   "id": "2defcc99",
   "metadata": {},
   "outputs": [],
   "source": [
    "# LSTM模型架构\n",
    "model = Sequential()"
   ]
  },
  {
   "cell_type": "code",
   "execution_count": 18,
   "id": "a602ba95",
   "metadata": {},
   "outputs": [
    {
     "name": "stderr",
     "output_type": "stream",
     "text": [
      "/Users/canoe/anaconda3/lib/python3.11/site-packages/keras/src/layers/core/embedding.py:90: UserWarning: Argument `input_length` is deprecated. Just remove it.\n",
      "  warnings.warn(\n"
     ]
    }
   ],
   "source": [
    "# 嵌入层：将文本序列转化为稠密向量\n",
    "model.add(Embedding(input_dim=10000, output_dim=128, input_length=max_sequence_length))"
   ]
  },
  {
   "cell_type": "code",
   "execution_count": 19,
   "id": "f441e6f5",
   "metadata": {},
   "outputs": [],
   "source": [
    "# LSTM层：添加LSTM层并使用Dropout防止过拟合\n",
    "model.add(LSTM(128, dropout=0.2, recurrent_dropout=0.2))"
   ]
  },
  {
   "cell_type": "code",
   "execution_count": 20,
   "id": "ca6ca072",
   "metadata": {},
   "outputs": [],
   "source": [
    "# 全连接层：用于输出分类结果\n",
    "model.add(Dense(64, activation='relu'))\n",
    "model.add(Dropout(0.5))  # Dropout层，防止过拟合\n",
    "model.add(Dense(len(label_encoder.classes_), activation='softmax'))  # 使用softmax激活函数用于多类分类"
   ]
  },
  {
   "cell_type": "code",
   "execution_count": 21,
   "id": "718a3b4f",
   "metadata": {},
   "outputs": [],
   "source": [
    "# 编译模型\n",
    "model.compile(loss='sparse_categorical_crossentropy', optimizer='adam', metrics=['accuracy'])"
   ]
  },
  {
   "cell_type": "code",
   "execution_count": 22,
   "id": "687058ea",
   "metadata": {},
   "outputs": [
    {
     "data": {
      "text/html": [
       "<pre style=\"white-space:pre;overflow-x:auto;line-height:normal;font-family:Menlo,'DejaVu Sans Mono',consolas,'Courier New',monospace\"><span style=\"font-weight: bold\">Model: \"sequential\"</span>\n",
       "</pre>\n"
      ],
      "text/plain": [
       "\u001b[1mModel: \"sequential\"\u001b[0m\n"
      ]
     },
     "metadata": {},
     "output_type": "display_data"
    },
    {
     "data": {
      "text/html": [
       "<pre style=\"white-space:pre;overflow-x:auto;line-height:normal;font-family:Menlo,'DejaVu Sans Mono',consolas,'Courier New',monospace\">┏━━━━━━━━━━━━━━━━━━━━━━━━━━━━━━━━━┳━━━━━━━━━━━━━━━━━━━━━━━━┳━━━━━━━━━━━━━━━┓\n",
       "┃<span style=\"font-weight: bold\"> Layer (type)                    </span>┃<span style=\"font-weight: bold\"> Output Shape           </span>┃<span style=\"font-weight: bold\">       Param # </span>┃\n",
       "┡━━━━━━━━━━━━━━━━━━━━━━━━━━━━━━━━━╇━━━━━━━━━━━━━━━━━━━━━━━━╇━━━━━━━━━━━━━━━┩\n",
       "│ embedding (<span style=\"color: #0087ff; text-decoration-color: #0087ff\">Embedding</span>)           │ ?                      │   <span style=\"color: #00af00; text-decoration-color: #00af00\">0</span> (unbuilt) │\n",
       "├─────────────────────────────────┼────────────────────────┼───────────────┤\n",
       "│ lstm (<span style=\"color: #0087ff; text-decoration-color: #0087ff\">LSTM</span>)                     │ ?                      │   <span style=\"color: #00af00; text-decoration-color: #00af00\">0</span> (unbuilt) │\n",
       "├─────────────────────────────────┼────────────────────────┼───────────────┤\n",
       "│ dense (<span style=\"color: #0087ff; text-decoration-color: #0087ff\">Dense</span>)                   │ ?                      │   <span style=\"color: #00af00; text-decoration-color: #00af00\">0</span> (unbuilt) │\n",
       "├─────────────────────────────────┼────────────────────────┼───────────────┤\n",
       "│ dropout (<span style=\"color: #0087ff; text-decoration-color: #0087ff\">Dropout</span>)               │ ?                      │             <span style=\"color: #00af00; text-decoration-color: #00af00\">0</span> │\n",
       "├─────────────────────────────────┼────────────────────────┼───────────────┤\n",
       "│ dense_1 (<span style=\"color: #0087ff; text-decoration-color: #0087ff\">Dense</span>)                 │ ?                      │   <span style=\"color: #00af00; text-decoration-color: #00af00\">0</span> (unbuilt) │\n",
       "└─────────────────────────────────┴────────────────────────┴───────────────┘\n",
       "</pre>\n"
      ],
      "text/plain": [
       "┏━━━━━━━━━━━━━━━━━━━━━━━━━━━━━━━━━┳━━━━━━━━━━━━━━━━━━━━━━━━┳━━━━━━━━━━━━━━━┓\n",
       "┃\u001b[1m \u001b[0m\u001b[1mLayer (type)                   \u001b[0m\u001b[1m \u001b[0m┃\u001b[1m \u001b[0m\u001b[1mOutput Shape          \u001b[0m\u001b[1m \u001b[0m┃\u001b[1m \u001b[0m\u001b[1m      Param #\u001b[0m\u001b[1m \u001b[0m┃\n",
       "┡━━━━━━━━━━━━━━━━━━━━━━━━━━━━━━━━━╇━━━━━━━━━━━━━━━━━━━━━━━━╇━━━━━━━━━━━━━━━┩\n",
       "│ embedding (\u001b[38;5;33mEmbedding\u001b[0m)           │ ?                      │   \u001b[38;5;34m0\u001b[0m (unbuilt) │\n",
       "├─────────────────────────────────┼────────────────────────┼───────────────┤\n",
       "│ lstm (\u001b[38;5;33mLSTM\u001b[0m)                     │ ?                      │   \u001b[38;5;34m0\u001b[0m (unbuilt) │\n",
       "├─────────────────────────────────┼────────────────────────┼───────────────┤\n",
       "│ dense (\u001b[38;5;33mDense\u001b[0m)                   │ ?                      │   \u001b[38;5;34m0\u001b[0m (unbuilt) │\n",
       "├─────────────────────────────────┼────────────────────────┼───────────────┤\n",
       "│ dropout (\u001b[38;5;33mDropout\u001b[0m)               │ ?                      │             \u001b[38;5;34m0\u001b[0m │\n",
       "├─────────────────────────────────┼────────────────────────┼───────────────┤\n",
       "│ dense_1 (\u001b[38;5;33mDense\u001b[0m)                 │ ?                      │   \u001b[38;5;34m0\u001b[0m (unbuilt) │\n",
       "└─────────────────────────────────┴────────────────────────┴───────────────┘\n"
      ]
     },
     "metadata": {},
     "output_type": "display_data"
    },
    {
     "data": {
      "text/html": [
       "<pre style=\"white-space:pre;overflow-x:auto;line-height:normal;font-family:Menlo,'DejaVu Sans Mono',consolas,'Courier New',monospace\"><span style=\"font-weight: bold\"> Total params: </span><span style=\"color: #00af00; text-decoration-color: #00af00\">0</span> (0.00 B)\n",
       "</pre>\n"
      ],
      "text/plain": [
       "\u001b[1m Total params: \u001b[0m\u001b[38;5;34m0\u001b[0m (0.00 B)\n"
      ]
     },
     "metadata": {},
     "output_type": "display_data"
    },
    {
     "data": {
      "text/html": [
       "<pre style=\"white-space:pre;overflow-x:auto;line-height:normal;font-family:Menlo,'DejaVu Sans Mono',consolas,'Courier New',monospace\"><span style=\"font-weight: bold\"> Trainable params: </span><span style=\"color: #00af00; text-decoration-color: #00af00\">0</span> (0.00 B)\n",
       "</pre>\n"
      ],
      "text/plain": [
       "\u001b[1m Trainable params: \u001b[0m\u001b[38;5;34m0\u001b[0m (0.00 B)\n"
      ]
     },
     "metadata": {},
     "output_type": "display_data"
    },
    {
     "data": {
      "text/html": [
       "<pre style=\"white-space:pre;overflow-x:auto;line-height:normal;font-family:Menlo,'DejaVu Sans Mono',consolas,'Courier New',monospace\"><span style=\"font-weight: bold\"> Non-trainable params: </span><span style=\"color: #00af00; text-decoration-color: #00af00\">0</span> (0.00 B)\n",
       "</pre>\n"
      ],
      "text/plain": [
       "\u001b[1m Non-trainable params: \u001b[0m\u001b[38;5;34m0\u001b[0m (0.00 B)\n"
      ]
     },
     "metadata": {},
     "output_type": "display_data"
    }
   ],
   "source": [
    "# 查看模型架构\n",
    "model.summary()"
   ]
  },
  {
   "cell_type": "markdown",
   "id": "89ac0355",
   "metadata": {},
   "source": [
    "# 训练模型"
   ]
  },
  {
   "cell_type": "code",
   "execution_count": 23,
   "id": "f199a4bb",
   "metadata": {},
   "outputs": [],
   "source": [
    "# 划分训练集和验证集\n",
    "X_train, X_val, y_train, y_val = train_test_split(X, y, test_size=0.2, random_state=42)"
   ]
  },
  {
   "cell_type": "code",
   "execution_count": null,
   "id": "1664c1c7",
   "metadata": {},
   "outputs": [
    {
     "name": "stdout",
     "output_type": "stream",
     "text": [
      "Epoch 1/5\n",
      "\u001b[1m994/994\u001b[0m \u001b[32m━━━━━━━━━━━━━━━━━━━━\u001b[0m\u001b[37m\u001b[0m \u001b[1m2154s\u001b[0m 2s/step - accuracy: 0.6413 - loss: 1.0104 - val_accuracy: 0.8847 - val_loss: 0.3663\n",
      "Epoch 2/5\n",
      "\u001b[1m994/994\u001b[0m \u001b[32m━━━━━━━━━━━━━━━━━━━━\u001b[0m\u001b[37m\u001b[0m \u001b[1m1811s\u001b[0m 2s/step - accuracy: 0.8985 - loss: 0.3355 - val_accuracy: 0.8875 - val_loss: 0.3617\n",
      "Epoch 3/5\n",
      "\u001b[1m994/994\u001b[0m \u001b[32m━━━━━━━━━━━━━━━━━━━━\u001b[0m\u001b[37m\u001b[0m \u001b[1m1785s\u001b[0m 2s/step - accuracy: 0.9123 - loss: 0.2837 - val_accuracy: 0.8844 - val_loss: 0.3945\n",
      "Epoch 4/5\n",
      "\u001b[1m819/994\u001b[0m \u001b[32m━━━━━━━━━━━━━━━━\u001b[0m\u001b[37m━━━━\u001b[0m \u001b[1m5:07\u001b[0m 2s/step - accuracy: 0.9242 - loss: 0.2409"
     ]
    }
   ],
   "source": [
    "# 训练模型\n",
    "history = model.fit(X_train, y_train, epochs=5, batch_size=64, validation_data=(X_val, y_val))"
   ]
  },
  {
   "cell_type": "code",
   "execution_count": null,
   "id": "0286b9d0",
   "metadata": {},
   "outputs": [],
   "source": [
    "# 评估模型性能\n",
    "loss, accuracy = model.evaluate(X_val, y_val)\n",
    "print(f\"Validation Accuracy: {accuracy:.4f}\")"
   ]
  },
  {
   "cell_type": "code",
   "execution_count": null,
   "id": "f904544f",
   "metadata": {},
   "outputs": [],
   "source": [
    "from sklearn.metrics import accuracy_score, precision_score, recall_score, f1_score, roc_auc_score, roc_curve\n",
    "import matplotlib.pyplot as plt\n",
    "import numpy as np"
   ]
  },
  {
   "cell_type": "code",
   "execution_count": null,
   "id": "312d5c96",
   "metadata": {},
   "outputs": [],
   "source": [
    "# 假设 X_val 和 y_val 是验证集的特征和标签\n",
    "# 对于 LSTM 模型，首先评估损失和准确率\n",
    "loss, accuracy = model.evaluate(X_val, y_val)\n",
    "print(f\"Validation Loss: {loss:.4f}\")\n",
    "print(f\"Validation Accuracy: {accuracy:.4f}\")\n",
    "\n",
    "# 使用模型进行预测\n",
    "y_pred = model.predict(X_val)\n",
    "\n",
    "# 对于二分类问题，我们通常取概率大于 0.5 的作为预测结果\n",
    "# 如果是二分类问题，模型的输出应该是概率，需要转换为类别\n",
    "y_pred_classes = (y_pred > 0.5).astype(\"int32\")\n",
    "\n",
    "# 计算精确率（Precision）\n",
    "precision = precision_score(y_val, y_pred_classes, average='weighted')  # 对于多类别问题，使用 'weighted'\n",
    "print(f\"Precision: {precision:.4f}\")\n",
    "\n",
    "# 计算召回率（Recall）\n",
    "recall = recall_score(y_val, y_pred_classes, average='weighted')  # 对于多类别问题，使用 'weighted'\n",
    "print(f\"Recall: {recall:.4f}\")\n",
    "\n",
    "# 计算 F1 分数\n",
    "f1 = f1_score(y_val, y_pred_classes, average='weighted')  # 对于多类别问题，使用 'weighted'\n",
    "print(f\"F1-Score: {f1:.4f}\")\n",
    "\n",
    "# 计算 ROC AUC（如果是二分类问题）\n",
    "if len(np.unique(y_val)) == 2:  # 确保是二分类问题\n",
    "    # 获取模型的预测概率（假设模型的输出是概率）\n",
    "    y_pred_prob = model.predict(X_val)[:, 1]  # 取第二类的概率\n",
    "\n",
    "    # 计算 ROC AUC\n",
    "    roc_auc = roc_auc_score(y_val, y_pred_prob)\n",
    "    print(f\"ROC AUC: {roc_auc:.4f}\")\n",
    "\n",
    "    # 计算 ROC 曲线\n",
    "    fpr, tpr, thresholds = roc_curve(y_val, y_pred_prob)\n",
    "\n",
    "    # 绘制 ROC 曲线\n",
    "    plt.figure(figsize=(6, 6))\n",
    "    plt.plot(fpr, tpr, color='b', label=f'ROC curve (AUC = {roc_auc:.2f})')\n",
    "    plt.plot([0, 1], [0, 1], color='gray', linestyle='--')\n",
    "    plt.xlabel('False Positive Rate')\n",
    "    plt.ylabel('True Positive Rate')\n",
    "    plt.title('Receiver Operating Characteristic (ROC) Curve')\n",
    "    plt.legend(loc='lower right')\n",
    "    plt.show()\n",
    "else:\n",
    "    print(\"ROC AUC is only applicable to binary classification problems.\")\n"
   ]
  },
  {
   "cell_type": "code",
   "execution_count": null,
   "id": "dd722838",
   "metadata": {},
   "outputs": [],
   "source": []
  },
  {
   "cell_type": "code",
   "execution_count": null,
   "id": "92e2796d",
   "metadata": {},
   "outputs": [],
   "source": []
  },
  {
   "cell_type": "code",
   "execution_count": null,
   "id": "2b0f938f",
   "metadata": {},
   "outputs": [],
   "source": []
  },
  {
   "cell_type": "code",
   "execution_count": null,
   "id": "ba248359",
   "metadata": {},
   "outputs": [],
   "source": []
  },
  {
   "cell_type": "markdown",
   "id": "b43d29f7",
   "metadata": {},
   "source": [
    "# 预测新数据"
   ]
  },
  {
   "cell_type": "code",
   "execution_count": null,
   "id": "63084fc7",
   "metadata": {},
   "outputs": [],
   "source": [
    "# 加载预测数据\n",
    "with open('predict.txt', 'r', encoding='utf-8') as f:\n",
    "    predict_data = f.read()"
   ]
  },
  {
   "cell_type": "code",
   "execution_count": null,
   "id": "0b0b8578",
   "metadata": {},
   "outputs": [],
   "source": [
    "# 预处理文本\n",
    "predict_data_processed = preprocess_text(predict_data)"
   ]
  },
  {
   "cell_type": "code",
   "execution_count": null,
   "id": "a5a580e2",
   "metadata": {},
   "outputs": [],
   "source": [
    "# 将预测文本转化为序列\n",
    "X_predict = tokenizer.texts_to_sequences([predict_data_processed])"
   ]
  },
  {
   "cell_type": "code",
   "execution_count": null,
   "id": "2c8e7faa",
   "metadata": {},
   "outputs": [],
   "source": [
    "# 填充序列\n",
    "X_predict = pad_sequences(X_predict, maxlen=max_sequence_length)"
   ]
  },
  {
   "cell_type": "code",
   "execution_count": null,
   "id": "e1dab8eb",
   "metadata": {},
   "outputs": [],
   "source": [
    "# 使用训练好的模型进行预测\n",
    "predicted_category = model.predict(X_predict)\n",
    "predicted_category_label = np.argmax(predicted_category, axis=1)"
   ]
  },
  {
   "cell_type": "code",
   "execution_count": null,
   "id": "10f29d63",
   "metadata": {},
   "outputs": [],
   "source": [
    "# 将预测的标签转换为类别名称\n",
    "predicted_category_name = label_encoder.inverse_transform(predicted_category_label)"
   ]
  },
  {
   "cell_type": "code",
   "execution_count": null,
   "id": "1f9fe114",
   "metadata": {},
   "outputs": [],
   "source": [
    "print(\"预测类别:\", predicted_category_name[0])"
   ]
  },
  {
   "cell_type": "code",
   "execution_count": null,
   "id": "611d6bc7",
   "metadata": {},
   "outputs": [],
   "source": []
  },
  {
   "cell_type": "code",
   "execution_count": null,
   "id": "27635d7b",
   "metadata": {},
   "outputs": [],
   "source": []
  },
  {
   "cell_type": "code",
   "execution_count": null,
   "id": "14a26e0d",
   "metadata": {},
   "outputs": [],
   "source": []
  },
  {
   "cell_type": "code",
   "execution_count": null,
   "id": "c25888e4",
   "metadata": {},
   "outputs": [],
   "source": []
  }
 ],
 "metadata": {
  "kernelspec": {
   "display_name": "Python 3 (ipykernel)",
   "language": "python",
   "name": "python3"
  },
  "language_info": {
   "codemirror_mode": {
    "name": "ipython",
    "version": 3
   },
   "file_extension": ".py",
   "mimetype": "text/x-python",
   "name": "python",
   "nbconvert_exporter": "python",
   "pygments_lexer": "ipython3",
   "version": "3.11.5"
  },
  "toc": {
   "base_numbering": 1,
   "nav_menu": {},
   "number_sections": true,
   "sideBar": true,
   "skip_h1_title": false,
   "title_cell": "Table of Contents",
   "title_sidebar": "Contents",
   "toc_cell": false,
   "toc_position": {},
   "toc_section_display": true,
   "toc_window_display": false
  }
 },
 "nbformat": 4,
 "nbformat_minor": 5
}
