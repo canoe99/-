{
 "cells": [
  {
   "cell_type": "markdown",
   "id": "44d9485b",
   "metadata": {},
   "source": [
    "# 加载数据"
   ]
  },
  {
   "cell_type": "code",
   "execution_count": 1,
   "id": "f12a1d73",
   "metadata": {},
   "outputs": [],
   "source": [
    "import pandas as pd\n",
    "import os"
   ]
  },
  {
   "cell_type": "code",
   "execution_count": 2,
   "id": "82f8e3aa",
   "metadata": {},
   "outputs": [],
   "source": [
    "# 定义训练集路径\n",
    "data_files = [\n",
    "    \"经济train.csv\",\n",
    "    \"军事train.csv\",\n",
    "    \"科技train.csv\",\n",
    "    \"社会train.csv\",\n",
    "    \"体育train.csv\",\n",
    "    \"文化train.csv\",\n",
    "    \"政治train.csv\"\n",
    "]"
   ]
  },
  {
   "cell_type": "code",
   "execution_count": 3,
   "id": "a20f5caa",
   "metadata": {},
   "outputs": [],
   "source": [
    "# 读取并合并所有训练数据\n",
    "train_data = pd.DataFrame()"
   ]
  },
  {
   "cell_type": "code",
   "execution_count": 4,
   "id": "3eb240d9",
   "metadata": {},
   "outputs": [],
   "source": [
    "for file in data_files:\n",
    "    temp_df = pd.read_csv(file)\n",
    "    temp_df['Category'] = file.split('train')[0]  # 给每个数据集加上标签列（如：经济，政治等）\n",
    "    train_data = pd.concat([train_data, temp_df])"
   ]
  },
  {
   "cell_type": "code",
   "execution_count": 5,
   "id": "51dfe146",
   "metadata": {},
   "outputs": [
    {
     "name": "stdout",
     "output_type": "stream",
     "text": [
      "  Area               KeyWords             Name Verified Language  \\\n",
      "0   经济  high-speed rail china  XIE Yongjun 解勇军        f       en   \n",
      "1   经济  high-speed rail china  XIE Yongjun 解勇军        f       en   \n",
      "2   经济  high-speed rail china  XIE Yongjun 解勇军        f       en   \n",
      "3   经济  high-speed rail china  XIE Yongjun 解勇军        f       en   \n",
      "4   经济  high-speed rail china  XIE Yongjun 解勇军        f       en   \n",
      "\n",
      "                                           Content Unnamed: 6 Unnamed: 7  \\\n",
      "0  High-speed rail here and there in China (37/46)        NaN        NaN   \n",
      "1  High-speed rail here and there in China (36/46)        NaN        NaN   \n",
      "2  High-speed rail here and there in China (35/46)        NaN        NaN   \n",
      "3  High-speed rail here and there in China (34/46)        NaN        NaN   \n",
      "4  High-speed rail here and there in China (33/46)        NaN        NaN   \n",
      "\n",
      "  Unnamed: 8 Unnamed: 9  ... Unnamed: 15 Unnamed: 16 Unnamed: 17 Unnamed: 18  \\\n",
      "0        NaN        NaN  ...         NaN         NaN         NaN         NaN   \n",
      "1        NaN        NaN  ...         NaN         NaN         NaN         NaN   \n",
      "2        NaN        NaN  ...         NaN         NaN         NaN         NaN   \n",
      "3        NaN        NaN  ...         NaN         NaN         NaN         NaN   \n",
      "4        NaN        NaN  ...         NaN         NaN         NaN         NaN   \n",
      "\n",
      "  Unnamed: 19 Unnamed: 20 Unnamed: 21 Unnamed: 22 Unnamed: 23 Unnamed: 24  \n",
      "0         NaN         NaN         NaN         NaN         NaN         NaN  \n",
      "1         NaN         NaN         NaN         NaN         NaN         NaN  \n",
      "2         NaN         NaN         NaN         NaN         NaN         NaN  \n",
      "3         NaN         NaN         NaN         NaN         NaN         NaN  \n",
      "4         NaN         NaN         NaN         NaN         NaN         NaN  \n",
      "\n",
      "[5 rows x 26 columns]\n"
     ]
    }
   ],
   "source": [
    "# 检查数据\n",
    "print(train_data.head())"
   ]
  },
  {
   "cell_type": "markdown",
   "id": "89e095f8",
   "metadata": {},
   "source": [
    "# 数据预处理"
   ]
  },
  {
   "cell_type": "code",
   "execution_count": 6,
   "id": "3a08833b",
   "metadata": {},
   "outputs": [],
   "source": [
    "import string"
   ]
  },
  {
   "cell_type": "code",
   "execution_count": 7,
   "id": "7e72f3d4",
   "metadata": {},
   "outputs": [],
   "source": [
    "# 数据清理\n",
    "train_data.dropna(subset=['Content'], inplace=True)  # 去掉Content为空的行"
   ]
  },
  {
   "cell_type": "code",
   "execution_count": 8,
   "id": "42bc8ae4",
   "metadata": {},
   "outputs": [],
   "source": [
    "# 文本预处理函数\n",
    "def preprocess_text(text):\n",
    "    text = text.lower()  # 转小写\n",
    "    text = text.translate(str.maketrans('', '', string.punctuation))  # 去除标点符号\n",
    "    return text"
   ]
  },
  {
   "cell_type": "code",
   "execution_count": 9,
   "id": "76c7e9af",
   "metadata": {},
   "outputs": [],
   "source": [
    "# 预处理训练集的文本\n",
    "train_data['Processed_Content'] = train_data['Content'].apply(preprocess_text)"
   ]
  },
  {
   "cell_type": "code",
   "execution_count": 10,
   "id": "6994dd9f",
   "metadata": {},
   "outputs": [
    {
     "name": "stdout",
     "output_type": "stream",
     "text": [
      "  Category                            Processed_Content\n",
      "0       经济  highspeed rail here and there in china 3746\n",
      "1       经济  highspeed rail here and there in china 3646\n",
      "2       经济  highspeed rail here and there in china 3546\n",
      "3       经济  highspeed rail here and there in china 3446\n",
      "4       经济  highspeed rail here and there in china 3346\n"
     ]
    }
   ],
   "source": [
    "# 查看处理后的数据\n",
    "print(train_data[['Category', 'Processed_Content']].head())"
   ]
  },
  {
   "cell_type": "markdown",
   "id": "a6b7f526",
   "metadata": {},
   "source": [
    "# 特征提取"
   ]
  },
  {
   "cell_type": "code",
   "execution_count": 11,
   "id": "5837dae7",
   "metadata": {},
   "outputs": [],
   "source": [
    "from sklearn.feature_extraction.text import TfidfVectorizer"
   ]
  },
  {
   "cell_type": "code",
   "execution_count": 12,
   "id": "119ec8f5",
   "metadata": {},
   "outputs": [],
   "source": [
    "# 创建TF-IDF向量化器\n",
    "vectorizer = TfidfVectorizer(max_features=5000)"
   ]
  },
  {
   "cell_type": "code",
   "execution_count": 13,
   "id": "4d0c5422",
   "metadata": {},
   "outputs": [],
   "source": [
    "# 训练TF-IDF模型并转化训练数据\n",
    "X_train = vectorizer.fit_transform(train_data['Processed_Content'])"
   ]
  },
  {
   "cell_type": "code",
   "execution_count": 14,
   "id": "4fff4c33",
   "metadata": {},
   "outputs": [
    {
     "name": "stdout",
     "output_type": "stream",
     "text": [
      "(79470, 5000)\n"
     ]
    }
   ],
   "source": [
    "# 查看特征维度\n",
    "print(X_train.shape)"
   ]
  },
  {
   "cell_type": "markdown",
   "id": "1faf2522",
   "metadata": {},
   "source": [
    "# 标签编码"
   ]
  },
  {
   "cell_type": "code",
   "execution_count": 15,
   "id": "0284824b",
   "metadata": {},
   "outputs": [],
   "source": [
    "from sklearn.preprocessing import LabelEncoder"
   ]
  },
  {
   "cell_type": "code",
   "execution_count": 16,
   "id": "98b85145",
   "metadata": {},
   "outputs": [],
   "source": [
    "# 初始化LabelEncoder\n",
    "label_encoder = LabelEncoder()"
   ]
  },
  {
   "cell_type": "code",
   "execution_count": 17,
   "id": "7016cfa6",
   "metadata": {},
   "outputs": [],
   "source": [
    "# 对类别标签进行编码\n",
    "y_train = label_encoder.fit_transform(train_data['Category'])"
   ]
  },
  {
   "cell_type": "code",
   "execution_count": 18,
   "id": "06dbeb6b",
   "metadata": {},
   "outputs": [
    {
     "name": "stdout",
     "output_type": "stream",
     "text": [
      "[6 6 6 6 6 6 6 6 6 6]\n"
     ]
    }
   ],
   "source": [
    "# 查看编码后的标签\n",
    "print(y_train[:10])"
   ]
  },
  {
   "cell_type": "markdown",
   "id": "79682d63",
   "metadata": {},
   "source": [
    "# 训练分类模型"
   ]
  },
  {
   "cell_type": "code",
   "execution_count": 19,
   "id": "2a73b5be",
   "metadata": {},
   "outputs": [],
   "source": [
    "from sklearn.linear_model import LogisticRegression\n",
    "from sklearn.model_selection import train_test_split\n",
    "from sklearn.metrics import classification_report"
   ]
  },
  {
   "cell_type": "code",
   "execution_count": 20,
   "id": "75878ccf",
   "metadata": {},
   "outputs": [],
   "source": [
    "# 划分训练集和验证集\n",
    "X_train, X_val, y_train, y_val = train_test_split(X_train, y_train, test_size=0.2, random_state=42)"
   ]
  },
  {
   "cell_type": "code",
   "execution_count": 21,
   "id": "bb0ec576",
   "metadata": {},
   "outputs": [],
   "source": [
    "# 初始化逻辑回归模型\n",
    "model = LogisticRegression(max_iter=1000)"
   ]
  },
  {
   "cell_type": "code",
   "execution_count": 22,
   "id": "b1b8b449",
   "metadata": {},
   "outputs": [
    {
     "data": {
      "text/html": [
       "<style>#sk-container-id-1 {color: black;}#sk-container-id-1 pre{padding: 0;}#sk-container-id-1 div.sk-toggleable {background-color: white;}#sk-container-id-1 label.sk-toggleable__label {cursor: pointer;display: block;width: 100%;margin-bottom: 0;padding: 0.3em;box-sizing: border-box;text-align: center;}#sk-container-id-1 label.sk-toggleable__label-arrow:before {content: \"▸\";float: left;margin-right: 0.25em;color: #696969;}#sk-container-id-1 label.sk-toggleable__label-arrow:hover:before {color: black;}#sk-container-id-1 div.sk-estimator:hover label.sk-toggleable__label-arrow:before {color: black;}#sk-container-id-1 div.sk-toggleable__content {max-height: 0;max-width: 0;overflow: hidden;text-align: left;background-color: #f0f8ff;}#sk-container-id-1 div.sk-toggleable__content pre {margin: 0.2em;color: black;border-radius: 0.25em;background-color: #f0f8ff;}#sk-container-id-1 input.sk-toggleable__control:checked~div.sk-toggleable__content {max-height: 200px;max-width: 100%;overflow: auto;}#sk-container-id-1 input.sk-toggleable__control:checked~label.sk-toggleable__label-arrow:before {content: \"▾\";}#sk-container-id-1 div.sk-estimator input.sk-toggleable__control:checked~label.sk-toggleable__label {background-color: #d4ebff;}#sk-container-id-1 div.sk-label input.sk-toggleable__control:checked~label.sk-toggleable__label {background-color: #d4ebff;}#sk-container-id-1 input.sk-hidden--visually {border: 0;clip: rect(1px 1px 1px 1px);clip: rect(1px, 1px, 1px, 1px);height: 1px;margin: -1px;overflow: hidden;padding: 0;position: absolute;width: 1px;}#sk-container-id-1 div.sk-estimator {font-family: monospace;background-color: #f0f8ff;border: 1px dotted black;border-radius: 0.25em;box-sizing: border-box;margin-bottom: 0.5em;}#sk-container-id-1 div.sk-estimator:hover {background-color: #d4ebff;}#sk-container-id-1 div.sk-parallel-item::after {content: \"\";width: 100%;border-bottom: 1px solid gray;flex-grow: 1;}#sk-container-id-1 div.sk-label:hover label.sk-toggleable__label {background-color: #d4ebff;}#sk-container-id-1 div.sk-serial::before {content: \"\";position: absolute;border-left: 1px solid gray;box-sizing: border-box;top: 0;bottom: 0;left: 50%;z-index: 0;}#sk-container-id-1 div.sk-serial {display: flex;flex-direction: column;align-items: center;background-color: white;padding-right: 0.2em;padding-left: 0.2em;position: relative;}#sk-container-id-1 div.sk-item {position: relative;z-index: 1;}#sk-container-id-1 div.sk-parallel {display: flex;align-items: stretch;justify-content: center;background-color: white;position: relative;}#sk-container-id-1 div.sk-item::before, #sk-container-id-1 div.sk-parallel-item::before {content: \"\";position: absolute;border-left: 1px solid gray;box-sizing: border-box;top: 0;bottom: 0;left: 50%;z-index: -1;}#sk-container-id-1 div.sk-parallel-item {display: flex;flex-direction: column;z-index: 1;position: relative;background-color: white;}#sk-container-id-1 div.sk-parallel-item:first-child::after {align-self: flex-end;width: 50%;}#sk-container-id-1 div.sk-parallel-item:last-child::after {align-self: flex-start;width: 50%;}#sk-container-id-1 div.sk-parallel-item:only-child::after {width: 0;}#sk-container-id-1 div.sk-dashed-wrapped {border: 1px dashed gray;margin: 0 0.4em 0.5em 0.4em;box-sizing: border-box;padding-bottom: 0.4em;background-color: white;}#sk-container-id-1 div.sk-label label {font-family: monospace;font-weight: bold;display: inline-block;line-height: 1.2em;}#sk-container-id-1 div.sk-label-container {text-align: center;}#sk-container-id-1 div.sk-container {/* jupyter's `normalize.less` sets `[hidden] { display: none; }` but bootstrap.min.css set `[hidden] { display: none !important; }` so we also need the `!important` here to be able to override the default hidden behavior on the sphinx rendered scikit-learn.org. See: https://github.com/scikit-learn/scikit-learn/issues/21755 */display: inline-block !important;position: relative;}#sk-container-id-1 div.sk-text-repr-fallback {display: none;}</style><div id=\"sk-container-id-1\" class=\"sk-top-container\"><div class=\"sk-text-repr-fallback\"><pre>LogisticRegression(max_iter=1000)</pre><b>In a Jupyter environment, please rerun this cell to show the HTML representation or trust the notebook. <br />On GitHub, the HTML representation is unable to render, please try loading this page with nbviewer.org.</b></div><div class=\"sk-container\" hidden><div class=\"sk-item\"><div class=\"sk-estimator sk-toggleable\"><input class=\"sk-toggleable__control sk-hidden--visually\" id=\"sk-estimator-id-1\" type=\"checkbox\" checked><label for=\"sk-estimator-id-1\" class=\"sk-toggleable__label sk-toggleable__label-arrow\">LogisticRegression</label><div class=\"sk-toggleable__content\"><pre>LogisticRegression(max_iter=1000)</pre></div></div></div></div></div>"
      ],
      "text/plain": [
       "LogisticRegression(max_iter=1000)"
      ]
     },
     "execution_count": 22,
     "metadata": {},
     "output_type": "execute_result"
    }
   ],
   "source": [
    "# 训练模型\n",
    "model.fit(X_train, y_train)"
   ]
  },
  {
   "cell_type": "code",
   "execution_count": 23,
   "id": "90ce5016",
   "metadata": {},
   "outputs": [],
   "source": [
    "# 在验证集上进行预测\n",
    "y_pred = model.predict(X_val)"
   ]
  },
  {
   "cell_type": "code",
   "execution_count": 24,
   "id": "c7b9da7c",
   "metadata": {},
   "outputs": [
    {
     "name": "stdout",
     "output_type": "stream",
     "text": [
      "              precision    recall  f1-score   support\n",
      "\n",
      "          体育       0.97      0.88      0.92      2037\n",
      "          军事       0.97      0.83      0.89       668\n",
      "          政治       0.88      0.84      0.86      1969\n",
      "          文化       0.84      0.98      0.90      5789\n",
      "          社会       0.95      0.80      0.87      1358\n",
      "          科技       0.92      0.78      0.85      2014\n",
      "          经济       0.90      0.87      0.88      2059\n",
      "\n",
      "    accuracy                           0.89     15894\n",
      "   macro avg       0.92      0.85      0.88     15894\n",
      "weighted avg       0.89      0.89      0.89     15894\n",
      "\n"
     ]
    }
   ],
   "source": [
    "# 输出分类报告\n",
    "print(classification_report(y_val, y_pred, target_names=label_encoder.classes_))"
   ]
  },
  {
   "cell_type": "markdown",
   "id": "0dc5b367",
   "metadata": {},
   "source": [
    "# 预测新数据"
   ]
  },
  {
   "cell_type": "code",
   "execution_count": 25,
   "id": "e2237706",
   "metadata": {},
   "outputs": [],
   "source": [
    "# 加载预测集数据\n",
    "with open('predict.txt', 'r', encoding='utf-8') as f:\n",
    "    predict_data = f.read()"
   ]
  },
  {
   "cell_type": "code",
   "execution_count": 26,
   "id": "1355d981",
   "metadata": {},
   "outputs": [],
   "source": [
    "# 预处理预测集数据\n",
    "predict_data_processed = preprocess_text(predict_data)"
   ]
  },
  {
   "cell_type": "code",
   "execution_count": 27,
   "id": "b5561fd9",
   "metadata": {},
   "outputs": [],
   "source": [
    "# 将预测数据转化为TF-IDF特征\n",
    "X_predict = vectorizer.transform([predict_data_processed])"
   ]
  },
  {
   "cell_type": "code",
   "execution_count": 28,
   "id": "868db1ac",
   "metadata": {},
   "outputs": [],
   "source": [
    "# 使用训练好的模型进行预测\n",
    "predicted_category = model.predict(X_predict)"
   ]
  },
  {
   "cell_type": "code",
   "execution_count": 29,
   "id": "23033134",
   "metadata": {},
   "outputs": [],
   "source": [
    "# 将预测的类别标签转换为对应的类别名称\n",
    "predicted_category_name = label_encoder.inverse_transform(predicted_category)"
   ]
  },
  {
   "cell_type": "code",
   "execution_count": 30,
   "id": "c94f8683",
   "metadata": {},
   "outputs": [
    {
     "name": "stdout",
     "output_type": "stream",
     "text": [
      "预测类别: 经济\n"
     ]
    }
   ],
   "source": [
    "print(\"预测类别:\", predicted_category_name[0])"
   ]
  },
  {
   "cell_type": "code",
   "execution_count": null,
   "id": "5efd7e37",
   "metadata": {},
   "outputs": [],
   "source": []
  }
 ],
 "metadata": {
  "kernelspec": {
   "display_name": "Python 3 (ipykernel)",
   "language": "python",
   "name": "python3"
  },
  "language_info": {
   "codemirror_mode": {
    "name": "ipython",
    "version": 3
   },
   "file_extension": ".py",
   "mimetype": "text/x-python",
   "name": "python",
   "nbconvert_exporter": "python",
   "pygments_lexer": "ipython3",
   "version": "3.11.5"
  },
  "toc": {
   "base_numbering": 1,
   "nav_menu": {},
   "number_sections": true,
   "sideBar": true,
   "skip_h1_title": false,
   "title_cell": "Table of Contents",
   "title_sidebar": "Contents",
   "toc_cell": false,
   "toc_position": {},
   "toc_section_display": true,
   "toc_window_display": false
  }
 },
 "nbformat": 4,
 "nbformat_minor": 5
}
