{
 "cells": [
  {
   "cell_type": "markdown",
   "id": "9edff730",
   "metadata": {},
   "source": [
    "# 数据加载和合并"
   ]
  },
  {
   "cell_type": "code",
   "execution_count": 1,
   "id": "c10cc231",
   "metadata": {},
   "outputs": [],
   "source": [
    "import pandas as pd\n",
    "import os"
   ]
  },
  {
   "cell_type": "code",
   "execution_count": 2,
   "id": "7f1f2796",
   "metadata": {},
   "outputs": [],
   "source": [
    "data_files = [\n",
    "    \"经济train.csv\",\n",
    "    \"军事train.csv\",\n",
    "    \"科技train.csv\",\n",
    "    \"社会train.csv\",\n",
    "    \"体育train.csv\",\n",
    "    \"文化train.csv\",\n",
    "    \"政治train.csv\"\n",
    "]"
   ]
  },
  {
   "cell_type": "code",
   "execution_count": 3,
   "id": "c64e415a",
   "metadata": {},
   "outputs": [],
   "source": [
    "# 读取并合并所有训练数据\n",
    "train_data = pd.DataFrame()\n",
    "\n",
    "for file in data_files:\n",
    "    temp_df = pd.read_csv(file)\n",
    "    temp_df['Category'] = file.split('train')[0]  # 给每个数据集加上标签列（如：经济，政治等）\n",
    "    train_data = pd.concat([train_data, temp_df])"
   ]
  },
  {
   "cell_type": "code",
   "execution_count": 4,
   "id": "2bce0ca1",
   "metadata": {},
   "outputs": [
    {
     "name": "stdout",
     "output_type": "stream",
     "text": [
      "  Area               KeyWords             Name Verified Language  \\\n",
      "0   经济  high-speed rail china  XIE Yongjun 解勇军        f       en   \n",
      "1   经济  high-speed rail china  XIE Yongjun 解勇军        f       en   \n",
      "2   经济  high-speed rail china  XIE Yongjun 解勇军        f       en   \n",
      "3   经济  high-speed rail china  XIE Yongjun 解勇军        f       en   \n",
      "4   经济  high-speed rail china  XIE Yongjun 解勇军        f       en   \n",
      "\n",
      "                                           Content Unnamed: 6 Unnamed: 7  \\\n",
      "0  High-speed rail here and there in China (37/46)        NaN        NaN   \n",
      "1  High-speed rail here and there in China (36/46)        NaN        NaN   \n",
      "2  High-speed rail here and there in China (35/46)        NaN        NaN   \n",
      "3  High-speed rail here and there in China (34/46)        NaN        NaN   \n",
      "4  High-speed rail here and there in China (33/46)        NaN        NaN   \n",
      "\n",
      "  Unnamed: 8 Unnamed: 9  ... Unnamed: 15 Unnamed: 16 Unnamed: 17 Unnamed: 18  \\\n",
      "0        NaN        NaN  ...         NaN         NaN         NaN         NaN   \n",
      "1        NaN        NaN  ...         NaN         NaN         NaN         NaN   \n",
      "2        NaN        NaN  ...         NaN         NaN         NaN         NaN   \n",
      "3        NaN        NaN  ...         NaN         NaN         NaN         NaN   \n",
      "4        NaN        NaN  ...         NaN         NaN         NaN         NaN   \n",
      "\n",
      "  Unnamed: 19 Unnamed: 20 Unnamed: 21 Unnamed: 22 Unnamed: 23 Unnamed: 24  \n",
      "0         NaN         NaN         NaN         NaN         NaN         NaN  \n",
      "1         NaN         NaN         NaN         NaN         NaN         NaN  \n",
      "2         NaN         NaN         NaN         NaN         NaN         NaN  \n",
      "3         NaN         NaN         NaN         NaN         NaN         NaN  \n",
      "4         NaN         NaN         NaN         NaN         NaN         NaN  \n",
      "\n",
      "[5 rows x 26 columns]\n"
     ]
    }
   ],
   "source": [
    "# 检查数据\n",
    "print(train_data.head())"
   ]
  },
  {
   "cell_type": "markdown",
   "id": "e2558660",
   "metadata": {},
   "source": [
    "# 数据预处理"
   ]
  },
  {
   "cell_type": "code",
   "execution_count": 5,
   "id": "4858ced1",
   "metadata": {},
   "outputs": [],
   "source": [
    "import string"
   ]
  },
  {
   "cell_type": "code",
   "execution_count": 6,
   "id": "1978f75c",
   "metadata": {},
   "outputs": [],
   "source": [
    "# 数据清理\n",
    "train_data.dropna(subset=['Content'], inplace=True)  # 去掉Content为空的行"
   ]
  },
  {
   "cell_type": "code",
   "execution_count": 7,
   "id": "33a812b6",
   "metadata": {},
   "outputs": [],
   "source": [
    "# 文本预处理函数\n",
    "def preprocess_text(text):\n",
    "    text = text.lower()  # 转小写\n",
    "    text = text.translate(str.maketrans('', '', string.punctuation))  # 去除标点符号\n",
    "    return text"
   ]
  },
  {
   "cell_type": "code",
   "execution_count": 8,
   "id": "56579400",
   "metadata": {},
   "outputs": [],
   "source": [
    "# 预处理训练集的文本\n",
    "train_data['Processed_Content'] = train_data['Content'].apply(preprocess_text)"
   ]
  },
  {
   "cell_type": "code",
   "execution_count": 9,
   "id": "e2a93165",
   "metadata": {},
   "outputs": [
    {
     "name": "stdout",
     "output_type": "stream",
     "text": [
      "  Category                            Processed_Content\n",
      "0       经济  highspeed rail here and there in china 3746\n",
      "1       经济  highspeed rail here and there in china 3646\n",
      "2       经济  highspeed rail here and there in china 3546\n",
      "3       经济  highspeed rail here and there in china 3446\n",
      "4       经济  highspeed rail here and there in china 3346\n"
     ]
    }
   ],
   "source": [
    "# 查看处理后的数据\n",
    "print(train_data[['Category', 'Processed_Content']].head())"
   ]
  },
  {
   "cell_type": "markdown",
   "id": "83fbed52",
   "metadata": {},
   "source": [
    "# 特征提取（TF-IDF）"
   ]
  },
  {
   "cell_type": "code",
   "execution_count": 10,
   "id": "c57328c7",
   "metadata": {},
   "outputs": [],
   "source": [
    "from sklearn.feature_extraction.text import TfidfVectorizer"
   ]
  },
  {
   "cell_type": "code",
   "execution_count": 11,
   "id": "b6a3fcff",
   "metadata": {},
   "outputs": [],
   "source": [
    "# 创建TF-IDF向量化器\n",
    "vectorizer = TfidfVectorizer(max_features=5000)"
   ]
  },
  {
   "cell_type": "code",
   "execution_count": 12,
   "id": "30afa2e4",
   "metadata": {},
   "outputs": [],
   "source": [
    "# 训练TF-IDF模型并转化训练数据\n",
    "X_train = vectorizer.fit_transform(train_data['Processed_Content'])"
   ]
  },
  {
   "cell_type": "code",
   "execution_count": 13,
   "id": "fd0f77c1",
   "metadata": {},
   "outputs": [
    {
     "name": "stdout",
     "output_type": "stream",
     "text": [
      "(79470, 5000)\n"
     ]
    }
   ],
   "source": [
    "# 查看特征维度\n",
    "print(X_train.shape)"
   ]
  },
  {
   "cell_type": "markdown",
   "id": "475d6bab",
   "metadata": {},
   "source": [
    "# 标签编码"
   ]
  },
  {
   "cell_type": "code",
   "execution_count": 14,
   "id": "1095b195",
   "metadata": {},
   "outputs": [],
   "source": [
    "from sklearn.preprocessing import LabelEncoder"
   ]
  },
  {
   "cell_type": "code",
   "execution_count": 15,
   "id": "97a2c984",
   "metadata": {},
   "outputs": [],
   "source": [
    "# 初始化LabelEncoder\n",
    "label_encoder = LabelEncoder()"
   ]
  },
  {
   "cell_type": "code",
   "execution_count": 16,
   "id": "6f22d935",
   "metadata": {},
   "outputs": [],
   "source": [
    "# 对类别标签进行编码\n",
    "y_train = label_encoder.fit_transform(train_data['Category'])"
   ]
  },
  {
   "cell_type": "code",
   "execution_count": 17,
   "id": "565875b6",
   "metadata": {},
   "outputs": [
    {
     "name": "stdout",
     "output_type": "stream",
     "text": [
      "[6 6 6 6 6 6 6 6 6 6]\n"
     ]
    }
   ],
   "source": [
    "# 查看编码后的标签\n",
    "print(y_train[:10])"
   ]
  },
  {
   "cell_type": "markdown",
   "id": "357c9295",
   "metadata": {},
   "source": [
    "# 训练随机森林模型"
   ]
  },
  {
   "cell_type": "code",
   "execution_count": 18,
   "id": "e5078cd1",
   "metadata": {},
   "outputs": [],
   "source": [
    "from sklearn.ensemble import RandomForestClassifier\n",
    "from sklearn.model_selection import train_test_split\n",
    "from sklearn.metrics import classification_report"
   ]
  },
  {
   "cell_type": "code",
   "execution_count": 19,
   "id": "b6864ba3",
   "metadata": {},
   "outputs": [],
   "source": [
    "# 划分训练集和验证集\n",
    "X_train, X_val, y_train, y_val = train_test_split(X_train, y_train, test_size=0.2, random_state=42)"
   ]
  },
  {
   "cell_type": "code",
   "execution_count": 20,
   "id": "1604c23d",
   "metadata": {},
   "outputs": [],
   "source": [
    "# 初始化随机森林模型\n",
    "rf_model = RandomForestClassifier(n_estimators=100, random_state=42)"
   ]
  },
  {
   "cell_type": "code",
   "execution_count": 21,
   "id": "7915dda8",
   "metadata": {},
   "outputs": [
    {
     "data": {
      "text/html": [
       "<style>#sk-container-id-1 {color: black;}#sk-container-id-1 pre{padding: 0;}#sk-container-id-1 div.sk-toggleable {background-color: white;}#sk-container-id-1 label.sk-toggleable__label {cursor: pointer;display: block;width: 100%;margin-bottom: 0;padding: 0.3em;box-sizing: border-box;text-align: center;}#sk-container-id-1 label.sk-toggleable__label-arrow:before {content: \"▸\";float: left;margin-right: 0.25em;color: #696969;}#sk-container-id-1 label.sk-toggleable__label-arrow:hover:before {color: black;}#sk-container-id-1 div.sk-estimator:hover label.sk-toggleable__label-arrow:before {color: black;}#sk-container-id-1 div.sk-toggleable__content {max-height: 0;max-width: 0;overflow: hidden;text-align: left;background-color: #f0f8ff;}#sk-container-id-1 div.sk-toggleable__content pre {margin: 0.2em;color: black;border-radius: 0.25em;background-color: #f0f8ff;}#sk-container-id-1 input.sk-toggleable__control:checked~div.sk-toggleable__content {max-height: 200px;max-width: 100%;overflow: auto;}#sk-container-id-1 input.sk-toggleable__control:checked~label.sk-toggleable__label-arrow:before {content: \"▾\";}#sk-container-id-1 div.sk-estimator input.sk-toggleable__control:checked~label.sk-toggleable__label {background-color: #d4ebff;}#sk-container-id-1 div.sk-label input.sk-toggleable__control:checked~label.sk-toggleable__label {background-color: #d4ebff;}#sk-container-id-1 input.sk-hidden--visually {border: 0;clip: rect(1px 1px 1px 1px);clip: rect(1px, 1px, 1px, 1px);height: 1px;margin: -1px;overflow: hidden;padding: 0;position: absolute;width: 1px;}#sk-container-id-1 div.sk-estimator {font-family: monospace;background-color: #f0f8ff;border: 1px dotted black;border-radius: 0.25em;box-sizing: border-box;margin-bottom: 0.5em;}#sk-container-id-1 div.sk-estimator:hover {background-color: #d4ebff;}#sk-container-id-1 div.sk-parallel-item::after {content: \"\";width: 100%;border-bottom: 1px solid gray;flex-grow: 1;}#sk-container-id-1 div.sk-label:hover label.sk-toggleable__label {background-color: #d4ebff;}#sk-container-id-1 div.sk-serial::before {content: \"\";position: absolute;border-left: 1px solid gray;box-sizing: border-box;top: 0;bottom: 0;left: 50%;z-index: 0;}#sk-container-id-1 div.sk-serial {display: flex;flex-direction: column;align-items: center;background-color: white;padding-right: 0.2em;padding-left: 0.2em;position: relative;}#sk-container-id-1 div.sk-item {position: relative;z-index: 1;}#sk-container-id-1 div.sk-parallel {display: flex;align-items: stretch;justify-content: center;background-color: white;position: relative;}#sk-container-id-1 div.sk-item::before, #sk-container-id-1 div.sk-parallel-item::before {content: \"\";position: absolute;border-left: 1px solid gray;box-sizing: border-box;top: 0;bottom: 0;left: 50%;z-index: -1;}#sk-container-id-1 div.sk-parallel-item {display: flex;flex-direction: column;z-index: 1;position: relative;background-color: white;}#sk-container-id-1 div.sk-parallel-item:first-child::after {align-self: flex-end;width: 50%;}#sk-container-id-1 div.sk-parallel-item:last-child::after {align-self: flex-start;width: 50%;}#sk-container-id-1 div.sk-parallel-item:only-child::after {width: 0;}#sk-container-id-1 div.sk-dashed-wrapped {border: 1px dashed gray;margin: 0 0.4em 0.5em 0.4em;box-sizing: border-box;padding-bottom: 0.4em;background-color: white;}#sk-container-id-1 div.sk-label label {font-family: monospace;font-weight: bold;display: inline-block;line-height: 1.2em;}#sk-container-id-1 div.sk-label-container {text-align: center;}#sk-container-id-1 div.sk-container {/* jupyter's `normalize.less` sets `[hidden] { display: none; }` but bootstrap.min.css set `[hidden] { display: none !important; }` so we also need the `!important` here to be able to override the default hidden behavior on the sphinx rendered scikit-learn.org. See: https://github.com/scikit-learn/scikit-learn/issues/21755 */display: inline-block !important;position: relative;}#sk-container-id-1 div.sk-text-repr-fallback {display: none;}</style><div id=\"sk-container-id-1\" class=\"sk-top-container\"><div class=\"sk-text-repr-fallback\"><pre>RandomForestClassifier(random_state=42)</pre><b>In a Jupyter environment, please rerun this cell to show the HTML representation or trust the notebook. <br />On GitHub, the HTML representation is unable to render, please try loading this page with nbviewer.org.</b></div><div class=\"sk-container\" hidden><div class=\"sk-item\"><div class=\"sk-estimator sk-toggleable\"><input class=\"sk-toggleable__control sk-hidden--visually\" id=\"sk-estimator-id-1\" type=\"checkbox\" checked><label for=\"sk-estimator-id-1\" class=\"sk-toggleable__label sk-toggleable__label-arrow\">RandomForestClassifier</label><div class=\"sk-toggleable__content\"><pre>RandomForestClassifier(random_state=42)</pre></div></div></div></div></div>"
      ],
      "text/plain": [
       "RandomForestClassifier(random_state=42)"
      ]
     },
     "execution_count": 21,
     "metadata": {},
     "output_type": "execute_result"
    }
   ],
   "source": [
    "# 训练模型\n",
    "rf_model.fit(X_train, y_train)"
   ]
  },
  {
   "cell_type": "code",
   "execution_count": 22,
   "id": "9de9576d",
   "metadata": {},
   "outputs": [],
   "source": [
    "# 在验证集上进行预测\n",
    "y_pred = rf_model.predict(X_val)"
   ]
  },
  {
   "cell_type": "code",
   "execution_count": 23,
   "id": "4974ad1b",
   "metadata": {},
   "outputs": [
    {
     "name": "stdout",
     "output_type": "stream",
     "text": [
      "              precision    recall  f1-score   support\n",
      "\n",
      "          体育       0.97      0.88      0.92      2037\n",
      "          军事       0.97      0.87      0.92       668\n",
      "          政治       0.90      0.85      0.87      1969\n",
      "          文化       0.84      0.98      0.90      5789\n",
      "          社会       0.92      0.82      0.87      1358\n",
      "          科技       0.94      0.77      0.85      2014\n",
      "          经济       0.90      0.88      0.89      2059\n",
      "\n",
      "    accuracy                           0.89     15894\n",
      "   macro avg       0.92      0.86      0.89     15894\n",
      "weighted avg       0.90      0.89      0.89     15894\n",
      "\n"
     ]
    }
   ],
   "source": [
    "# 输出分类报告\n",
    "print(classification_report(y_val, y_pred, target_names=label_encoder.classes_))"
   ]
  },
  {
   "cell_type": "markdown",
   "id": "acede5d8",
   "metadata": {},
   "source": [
    "# 预测新数据"
   ]
  },
  {
   "cell_type": "code",
   "execution_count": 24,
   "id": "12cc4271",
   "metadata": {},
   "outputs": [],
   "source": [
    "# 加载预测集数据\n",
    "with open('predict.txt', 'r', encoding='utf-8') as f:\n",
    "    predict_data = f.read()"
   ]
  },
  {
   "cell_type": "code",
   "execution_count": 25,
   "id": "fe8c12ab",
   "metadata": {},
   "outputs": [],
   "source": [
    "# 预处理预测集数据\n",
    "predict_data_processed = preprocess_text(predict_data)"
   ]
  },
  {
   "cell_type": "code",
   "execution_count": 26,
   "id": "2c7ccf5a",
   "metadata": {},
   "outputs": [],
   "source": [
    "# 将预测数据转化为TF-IDF特征\n",
    "X_predict = vectorizer.transform([predict_data_processed])"
   ]
  },
  {
   "cell_type": "code",
   "execution_count": 27,
   "id": "337d7c58",
   "metadata": {},
   "outputs": [],
   "source": [
    "# 使用训练好的随机森林模型进行预测\n",
    "predicted_category = rf_model.predict(X_predict)"
   ]
  },
  {
   "cell_type": "code",
   "execution_count": 28,
   "id": "bc990d5c",
   "metadata": {},
   "outputs": [],
   "source": [
    "# 将预测的类别标签转换为对应的类别名称\n",
    "predicted_category_name = label_encoder.inverse_transform(predicted_category)"
   ]
  },
  {
   "cell_type": "code",
   "execution_count": 29,
   "id": "d69f350a",
   "metadata": {},
   "outputs": [
    {
     "name": "stdout",
     "output_type": "stream",
     "text": [
      "预测类别: 经济\n"
     ]
    }
   ],
   "source": [
    "print(\"预测类别:\", predicted_category_name[0])"
   ]
  },
  {
   "cell_type": "code",
   "execution_count": null,
   "id": "74df25d8",
   "metadata": {},
   "outputs": [],
   "source": []
  }
 ],
 "metadata": {
  "kernelspec": {
   "display_name": "Python 3 (ipykernel)",
   "language": "python",
   "name": "python3"
  },
  "language_info": {
   "codemirror_mode": {
    "name": "ipython",
    "version": 3
   },
   "file_extension": ".py",
   "mimetype": "text/x-python",
   "name": "python",
   "nbconvert_exporter": "python",
   "pygments_lexer": "ipython3",
   "version": "3.11.5"
  },
  "toc": {
   "base_numbering": 1,
   "nav_menu": {},
   "number_sections": true,
   "sideBar": true,
   "skip_h1_title": false,
   "title_cell": "Table of Contents",
   "title_sidebar": "Contents",
   "toc_cell": false,
   "toc_position": {},
   "toc_section_display": true,
   "toc_window_display": false
  }
 },
 "nbformat": 4,
 "nbformat_minor": 5
}
